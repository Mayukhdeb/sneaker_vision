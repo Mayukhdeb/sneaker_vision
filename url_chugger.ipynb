{
 "cells": [
  {
   "cell_type": "code",
   "execution_count": 2,
   "metadata": {},
   "outputs": [],
   "source": [
    "import requests\n",
    "import bs4\n",
    "from PIL import Image\n",
    "\n",
    "from io import BytesIO"
   ]
  },
  {
   "cell_type": "code",
   "execution_count": 3,
   "metadata": {},
   "outputs": [],
   "source": [
    "## holy moly this works \n",
    "\n",
    "def url_chugger(google_images_url, path, brand, title):\n",
    "    \n",
    "    raw = requests.get(google_images_url)\n",
    "    soup = bs4.BeautifulSoup(raw.text, \"html5\")# cv to beautifulsoup type\n",
    "    woop = soup.select('img')\n",
    "    image_tags = soup.findAll(\"img\")\n",
    "    \n",
    "    \n",
    "    url_arr = []\n",
    "    for image_tag in image_tags:\n",
    "\n",
    "        url_arr.append(image_tag['src'])  \n",
    "        \n",
    "    def chunk_save(url_arr, path, brand, title ):\n",
    "    \n",
    "        for i in range (len(url_arr)):\n",
    "\n",
    "            fmt_name = path + brand + title + str(i+1)+\".png\"\n",
    "\n",
    "            response = requests.get(url_arr[i])\n",
    "            img = Image.open(BytesIO(response.content))\n",
    "            img.save(fmt_name)\n",
    "            print (\"saved  - \", fmt_name)\n",
    "            \n",
    "    chunk_save(url_arr, path, brand, title)\n",
    "    \n",
    "    \n",
    "#    \"nike_dump/\", \"nike_\", \"a_\""
   ]
  }
 ],
 "metadata": {
  "kernelspec": {
   "display_name": "Python 3",
   "language": "python",
   "name": "python3"
  },
  "language_info": {
   "codemirror_mode": {
    "name": "ipython",
    "version": 3
   },
   "file_extension": ".py",
   "mimetype": "text/x-python",
   "name": "python",
   "nbconvert_exporter": "python",
   "pygments_lexer": "ipython3",
   "version": "3.7.3"
  }
 },
 "nbformat": 4,
 "nbformat_minor": 2
}
