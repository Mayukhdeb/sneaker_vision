{
 "cells": [
  {
   "cell_type": "code",
   "execution_count": 12,
   "metadata": {},
   "outputs": [],
   "source": [
    "import requests\n",
    "import bs4\n",
    "from PIL import Image\n",
    "\n",
    "from io import BytesIO"
   ]
  },
  {
   "cell_type": "code",
   "execution_count": 4,
   "metadata": {},
   "outputs": [],
   "source": [
    "## holy moly this works \n",
    "\n",
    "def url_chugger(google_images_url, path, brand, title):\n",
    "    \n",
    "    raw = requests.get(google_images_url)\n",
    "    soup = bs4.BeautifulSoup(raw.text, \"html5\")# cv to beautifulsoup type\n",
    "    woop = soup.select('img')\n",
    "    image_tags = soup.findAll(\"img\")\n",
    "    \n",
    "    \n",
    "    url_arr = []\n",
    "    for image_tag in image_tags:\n",
    "\n",
    "        url_arr.append(image_tag['src'])  \n",
    "        \n",
    "    def chunk_save(url_arr, path, brand, title ):\n",
    "    \n",
    "        for i in range (len(url_arr)):\n",
    "\n",
    "            fmt_name = path + brand + title + str(i+1)+\".png\"\n",
    "\n",
    "            response = requests.get(url_arr[i])\n",
    "            img = Image.open(BytesIO(response.content))\n",
    "            img.save(fmt_name)\n",
    "            print (\"saved  - \", fmt_name)\n",
    "            \n",
    "    chunk_save(url_arr, path, brand, title)\n",
    "    \n",
    "    \n",
    "#    \"nike_dump/\", \"nike_\", \"a_\""
   ]
  },
  {
   "cell_type": "code",
   "execution_count": null,
   "metadata": {},
   "outputs": [],
   "source": [
    "# url_chugger(\"\", \"puma_dump/\", \"puma_\", \"aa_\")"
   ]
  },
  {
   "cell_type": "code",
   "execution_count": 19,
   "metadata": {},
   "outputs": [
    {
     "name": "stdout",
     "output_type": "stream",
     "text": [
      "saved  -  puma_dump/puma_cc_1.png\n",
      "saved  -  puma_dump/puma_cc_2.png\n",
      "saved  -  puma_dump/puma_cc_3.png\n",
      "saved  -  puma_dump/puma_cc_4.png\n",
      "saved  -  puma_dump/puma_cc_5.png\n",
      "saved  -  puma_dump/puma_cc_6.png\n",
      "saved  -  puma_dump/puma_cc_7.png\n",
      "saved  -  puma_dump/puma_cc_8.png\n",
      "saved  -  puma_dump/puma_cc_9.png\n",
      "saved  -  puma_dump/puma_cc_10.png\n",
      "saved  -  puma_dump/puma_cc_11.png\n",
      "saved  -  puma_dump/puma_cc_12.png\n",
      "saved  -  puma_dump/puma_cc_13.png\n",
      "saved  -  puma_dump/puma_cc_14.png\n",
      "saved  -  puma_dump/puma_cc_15.png\n",
      "saved  -  puma_dump/puma_cc_16.png\n",
      "saved  -  puma_dump/puma_cc_17.png\n",
      "saved  -  puma_dump/puma_cc_18.png\n",
      "saved  -  puma_dump/puma_cc_19.png\n",
      "saved  -  puma_dump/puma_cc_20.png\n"
     ]
    }
   ],
   "source": [
    "url_chugger(\"https://www.google.com/search?biw=952&bih=972&tbm=isch&sa=1&ei=zEdnXcLECdOLmgfujYS4Bw&q=puma+shoes+flipkart&oq=puma+shoes+flipkart&gs_l=img.3..0j0i8i30l3j0i24l2.2548.7583..7960...0.0..0.183.3181.0j22......0....1..gws-wiz-img.......0i67.8SZRgEi6Ev8&ved=0ahUKEwjC2qv6kqfkAhXTheYKHe4GAXcQ4dUDCAY&uact=5\", \"puma_dump/\", \"puma_\", \"cc_\")"
   ]
  },
  {
   "cell_type": "code",
   "execution_count": 17,
   "metadata": {},
   "outputs": [
    {
     "name": "stdout",
     "output_type": "stream",
     "text": [
      "saved  -  puma_dump/puma_bb_1.png\n",
      "saved  -  puma_dump/puma_bb_2.png\n",
      "saved  -  puma_dump/puma_bb_3.png\n",
      "saved  -  puma_dump/puma_bb_4.png\n",
      "saved  -  puma_dump/puma_bb_5.png\n",
      "saved  -  puma_dump/puma_bb_6.png\n",
      "saved  -  puma_dump/puma_bb_7.png\n",
      "saved  -  puma_dump/puma_bb_8.png\n",
      "saved  -  puma_dump/puma_bb_9.png\n",
      "saved  -  puma_dump/puma_bb_10.png\n",
      "saved  -  puma_dump/puma_bb_11.png\n",
      "saved  -  puma_dump/puma_bb_12.png\n",
      "saved  -  puma_dump/puma_bb_13.png\n",
      "saved  -  puma_dump/puma_bb_14.png\n",
      "saved  -  puma_dump/puma_bb_15.png\n",
      "saved  -  puma_dump/puma_bb_16.png\n",
      "saved  -  puma_dump/puma_bb_17.png\n",
      "saved  -  puma_dump/puma_bb_18.png\n",
      "saved  -  puma_dump/puma_bb_19.png\n",
      "saved  -  puma_dump/puma_bb_20.png\n"
     ]
    }
   ],
   "source": [
    "url_chugger(\"https://www.google.com/search?biw=952&bih=972&tbm=isch&sa=1&ei=7UVnXfqrBZfD3LUPn7qzyAI&q=puma+shoe+womens&oq=puma+shoe+womens&gs_l=img.3..0.310487.312463..313361...0.0..0.196.1595.0j10......0....1..gws-wiz-img.......0i67j0i8i30j0i24j0i10i24.iE6YDYzzqfk&ved=0ahUKEwi61vOVkafkAhWXIbcAHR_dDCkQ4dUDCAY&uact=5\", \"puma_dump/\", \"puma_\", \"bb_\")"
   ]
  },
  {
   "cell_type": "code",
   "execution_count": 26,
   "metadata": {},
   "outputs": [
    {
     "name": "stdout",
     "output_type": "stream",
     "text": [
      "saved  -  puma_dump/puma_dd_1.png\n",
      "saved  -  puma_dump/puma_dd_2.png\n",
      "saved  -  puma_dump/puma_dd_3.png\n",
      "saved  -  puma_dump/puma_dd_4.png\n",
      "saved  -  puma_dump/puma_dd_5.png\n",
      "saved  -  puma_dump/puma_dd_6.png\n",
      "saved  -  puma_dump/puma_dd_7.png\n",
      "saved  -  puma_dump/puma_dd_8.png\n",
      "saved  -  puma_dump/puma_dd_9.png\n",
      "saved  -  puma_dump/puma_dd_10.png\n",
      "saved  -  puma_dump/puma_dd_11.png\n",
      "saved  -  puma_dump/puma_dd_12.png\n",
      "saved  -  puma_dump/puma_dd_13.png\n",
      "saved  -  puma_dump/puma_dd_14.png\n",
      "saved  -  puma_dump/puma_dd_15.png\n",
      "saved  -  puma_dump/puma_dd_16.png\n",
      "saved  -  puma_dump/puma_dd_17.png\n",
      "saved  -  puma_dump/puma_dd_18.png\n",
      "saved  -  puma_dump/puma_dd_19.png\n",
      "saved  -  puma_dump/puma_dd_20.png\n"
     ]
    }
   ],
   "source": [
    "url_chugger(\"https://www.google.com/search?biw=952&bih=972&tbm=isch&sa=1&ei=1UdnXa-VEejYz7sPrdi2kA8&q=puma+shoes+amazon&oq=puma+shoes+amazon&gs_l=img.3..0l2j0i7i30j0i8i30l4j0i24l3.35547.42817..45124...0.0..0.153.2021.0j14......0....1..gws-wiz-img.......0i67.4PiP6FVZ0O4&ved=0ahUKEwjv09j-kqfkAhVo7HMBHS2sDfIQ4dUDCAY&uact=5\", \"puma_dump/\", \"puma_\", \"dd_\")"
   ]
  },
  {
   "cell_type": "code",
   "execution_count": 27,
   "metadata": {},
   "outputs": [
    {
     "name": "stdout",
     "output_type": "stream",
     "text": [
      "saved  -  puma_dump/puma_ee_1.png\n",
      "saved  -  puma_dump/puma_ee_2.png\n",
      "saved  -  puma_dump/puma_ee_3.png\n",
      "saved  -  puma_dump/puma_ee_4.png\n",
      "saved  -  puma_dump/puma_ee_5.png\n",
      "saved  -  puma_dump/puma_ee_6.png\n",
      "saved  -  puma_dump/puma_ee_7.png\n",
      "saved  -  puma_dump/puma_ee_8.png\n",
      "saved  -  puma_dump/puma_ee_9.png\n",
      "saved  -  puma_dump/puma_ee_10.png\n",
      "saved  -  puma_dump/puma_ee_11.png\n",
      "saved  -  puma_dump/puma_ee_12.png\n",
      "saved  -  puma_dump/puma_ee_13.png\n",
      "saved  -  puma_dump/puma_ee_14.png\n",
      "saved  -  puma_dump/puma_ee_15.png\n",
      "saved  -  puma_dump/puma_ee_16.png\n",
      "saved  -  puma_dump/puma_ee_17.png\n",
      "saved  -  puma_dump/puma_ee_18.png\n",
      "saved  -  puma_dump/puma_ee_19.png\n",
      "saved  -  puma_dump/puma_ee_20.png\n"
     ]
    }
   ],
   "source": [
    "url_chugger(\"https://www.google.com/search?tbm=isch&q=puma+shoes+amazon&chips=q:puma+shoes+amazon,g_1:india:UdQ1z-wRJMM%3D,online_chips:cricket+shoes&usg=AI4_-kQxnJN2J8FHcgq3DM0bvvV5rRBGWQ&sa=X&ved=0ahUKEwjvxfzUk6fkAhUG8XMBHW4VBqwQ4lYILygC&biw=952&bih=972&dpr=1\", \"puma_dump/\", \"puma_\", \"ee_\")"
   ]
  }
 ],
 "metadata": {
  "kernelspec": {
   "display_name": "Python 3",
   "language": "python",
   "name": "python3"
  },
  "language_info": {
   "codemirror_mode": {
    "name": "ipython",
    "version": 3
   },
   "file_extension": ".py",
   "mimetype": "text/x-python",
   "name": "python",
   "nbconvert_exporter": "python",
   "pygments_lexer": "ipython3",
   "version": "3.7.3"
  }
 },
 "nbformat": 4,
 "nbformat_minor": 2
}
