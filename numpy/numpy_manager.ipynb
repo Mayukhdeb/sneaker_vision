{
 "cells": [
  {
   "cell_type": "code",
   "execution_count": 2,
   "metadata": {},
   "outputs": [],
   "source": [
    "import torch\n",
    "import torchvision\n",
    "import torch.nn as nn\n",
    "\n",
    "'''  do not forget =    it's (HEIGHT, WIDTH)    ''' \n",
    "\n",
    "import torch.nn.functional as F\n",
    "import torchvision.transforms as transforms\n",
    "from torch.utils.data import Dataset, DataLoader\n",
    "import torch.optim as optim\n",
    "\n",
    "torch.set_printoptions(linewidth = 120)\n",
    "torch.set_grad_enabled(True)\n",
    "\n",
    "######################################################\n",
    "\n",
    "import os\n",
    "import numpy as np\n"
   ]
  },
  {
   "cell_type": "code",
   "execution_count": 17,
   "metadata": {},
   "outputs": [
    {
     "name": "stdout",
     "output_type": "stream",
     "text": [
      "[array([[255, 255, 255, ..., 255, 255, 255],\n",
      "       [255, 255, 255, ..., 255, 255, 255],\n",
      "       [255, 255, 255, ..., 255, 255, 255],\n",
      "       ...,\n",
      "       [255, 255, 255, ..., 255, 255, 255],\n",
      "       [255, 255, 255, ..., 255, 255, 255],\n",
      "       [255, 255, 255, ..., 255, 255, 255]], dtype=uint8)\n",
      " list([0])]\n",
      "saved  !!\n"
     ]
    }
   ],
   "source": [
    "\n",
    "fin = np.array(np.load(\"final_shuffled.npy\"))\n",
    "\n",
    "np.random.shuffle(fin)\n",
    "\n",
    "def get_binary_data(arr):\n",
    "    foo = arr\n",
    "    for i in range (len(arr)):\n",
    "        if foo[i][1] == [1,0]:\n",
    "            foo[i][1] = [1]\n",
    "            \n",
    "        else:\n",
    "            foo[i][1] = [0]\n",
    "            \n",
    "    return foo\n",
    "\n",
    "binary_array = get_binary_data(fin)\n",
    "\n",
    "print (binary_array[0])\n",
    "\n",
    "np.save (\"binary_shuffled.npy\", binary_array)\n",
    "\n",
    "print ('saved  !!')"
   ]
  },
  {
   "cell_type": "code",
   "execution_count": 20,
   "metadata": {},
   "outputs": [
    {
     "name": "stdout",
     "output_type": "stream",
     "text": [
      "0\n",
      "10\n",
      "20\n",
      "30\n",
      "40\n",
      "50\n",
      "60\n",
      "70\n",
      "80\n",
      "90\n",
      "100\n",
      "110\n",
      "120\n",
      "130\n",
      "140\n",
      "150\n",
      "160\n",
      "170\n",
      "180\n",
      "190\n"
     ]
    }
   ],
   "source": [
    "for j in range (len(binary_array)):\n",
    "    temp_arr = []\n",
    "    main_arr = []\n",
    "    if j % 10 == 0:\n",
    "        temp_arr = binary_array[:j]\n",
    "        print (len(temp_arr))\n",
    "        \n",
    "   "
   ]
  },
  {
   "cell_type": "code",
   "execution_count": 3,
   "metadata": {},
   "outputs": [
    {
     "name": "stdout",
     "output_type": "stream",
     "text": [
      "[array([[255, 255, 255, ..., 255, 255, 255],\n",
      "       [255, 255, 255, ..., 255, 255, 255],\n",
      "       [255, 255, 255, ..., 255, 255, 255],\n",
      "       ...,\n",
      "       [255, 255, 255, ..., 255, 255, 255],\n",
      "       [255, 255, 255, ..., 255, 255, 255],\n",
      "       [255, 255, 255, ..., 255, 255, 255]], dtype=uint8)\n",
      " list([2])]\n",
      "saved  !!\n"
     ]
    }
   ],
   "source": [
    "fin = np.array(np.load(\"final_shuffled.npy\"))\n",
    "\n",
    "np.random.shuffle(fin)\n",
    "\n",
    "def get_binary_data(arr):\n",
    "    foo = arr\n",
    "    for i in range (len(arr)):\n",
    "        if foo[i][1] == [1,0]:\n",
    "            foo[i][1] = [2]\n",
    "            \n",
    "        else:\n",
    "            foo[i][1] = [1]\n",
    "            \n",
    "    return foo\n",
    "\n",
    "binary_array = get_binary_data(fin)\n",
    "\n",
    "print (binary_array[0])\n",
    "\n",
    "np.save (\"one_two_shuffled.npy\", binary_array)\n",
    "\n",
    "print ('saved  !!')"
   ]
  }
 ],
 "metadata": {
  "kernelspec": {
   "display_name": "Python 3",
   "language": "python",
   "name": "python3"
  },
  "language_info": {
   "codemirror_mode": {
    "name": "ipython",
    "version": 3
   },
   "file_extension": ".py",
   "mimetype": "text/x-python",
   "name": "python",
   "nbconvert_exporter": "python",
   "pygments_lexer": "ipython3",
   "version": "3.7.3"
  }
 },
 "nbformat": 4,
 "nbformat_minor": 2
}
