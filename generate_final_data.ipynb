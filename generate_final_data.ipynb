{
 "cells": [
  {
   "cell_type": "code",
   "execution_count": 21,
   "metadata": {},
   "outputs": [],
   "source": [
    "import os\n",
    "import numpy as np\n",
    "import matplotlib.pyplot as plt\n",
    "from random import shuffle \n",
    "\n"
   ]
  },
  {
   "cell_type": "code",
   "execution_count": 69,
   "metadata": {},
   "outputs": [],
   "source": [
    "def check_samples(arr, gap):\n",
    "    \n",
    "    for l in range (0, len(arr), gap):\n",
    "        \n",
    "        plt.imshow(arr[l][0])\n",
    "        plt.show()   ## shoving this in somehow shows all the images\n",
    "        \n",
    "def save(arr, name):\n",
    "    fmt_name  = \"numpy/\" + name\n",
    "    numpy.save(fmt_name, arr)\n",
    "    \n",
    "    print (\"saved -- \", fmt_name)"
   ]
  },
  {
   "cell_type": "code",
   "execution_count": 98,
   "metadata": {},
   "outputs": [],
   "source": [
    "def preprocess(arr1, arr2, final_name):\n",
    "\n",
    "    a = np.array(np.load(arr1))\n",
    "\n",
    "    b = np.array(np.load(arr2))\n",
    "\n",
    "    final = np.concatenate((a, b), axis = 0)  \n",
    "\n",
    "    ## \"axis\" is similar to the \"dim\" thingy in pyTorch\n",
    "\n",
    "    np.random.shuffle(final)\n",
    "\n",
    "    save(final, final_name)\n",
    "    \n",
    "    print (\"preprocessing done, file saved \")"
   ]
  },
  {
   "cell_type": "code",
   "execution_count": 100,
   "metadata": {},
   "outputs": [
    {
     "name": "stdout",
     "output_type": "stream",
     "text": [
      "saved --  numpy/final_shuffled\n",
      "preprocessing done, file saved \n"
     ]
    }
   ],
   "source": [
    "preprocess (\"numpy/nike_final.npy\", \"numpy/puma_final.npy\", \"final_shuffled\")\n",
    "\n",
    "\n",
    "# check_samples(final, 20)"
   ]
  }
 ],
 "metadata": {
  "kernelspec": {
   "display_name": "Python 3",
   "language": "python",
   "name": "python3"
  },
  "language_info": {
   "codemirror_mode": {
    "name": "ipython",
    "version": 3
   },
   "file_extension": ".py",
   "mimetype": "text/x-python",
   "name": "python",
   "nbconvert_exporter": "python",
   "pygments_lexer": "ipython3",
   "version": "3.7.3"
  }
 },
 "nbformat": 4,
 "nbformat_minor": 2
}
