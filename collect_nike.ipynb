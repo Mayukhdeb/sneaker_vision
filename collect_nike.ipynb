{
 "cells": [
  {
   "cell_type": "code",
   "execution_count": null,
   "metadata": {},
   "outputs": [],
   "source": [
    "import requests\n",
    "import bs4\n",
    "from PIL import Image\n",
    "\n",
    "from io import BytesIO"
   ]
  },
  {
   "cell_type": "code",
   "execution_count": 3,
   "metadata": {},
   "outputs": [],
   "source": [
    "## holy moly ravioli\n",
    "\n",
    "def url_chugger(google_images_url, path, brand, title):\n",
    "    \n",
    "    raw = requests.get(google_images_url)\n",
    "    soup = bs4.BeautifulSoup(raw.text, \"html5\")# convert to beautifulsoup class\n",
    "    woop = soup.select('img')\n",
    "    image_tags = soup.findAll(\"img\")\n",
    "    \n",
    "    \n",
    "    url_arr = []\n",
    "    for image_tag in image_tags:\n",
    "\n",
    "        url_arr.append(image_tag['src'])  \n",
    "        \n",
    "    def chunk_save(url_arr, path, brand, title ):\n",
    "    \n",
    "        for i in range (len(url_arr)):\n",
    "\n",
    "            fmt_name = path + brand + title + str(i+1)+\".png\"\n",
    "\n",
    "            response = requests.get(url_arr[i])\n",
    "            img = Image.open(BytesIO(response.content))\n",
    "            img.save(fmt_name)\n",
    "            print (\"saved  - \", fmt_name)\n",
    "            \n",
    "    chunk_save(url_arr, path, brand, title)\n",
    "    \n",
    "    \n",
    "#    \"nike_dump/\", \"nike_\", \"a_\"\n",
    "    "
   ]
  },
  {
   "cell_type": "code",
   "execution_count": 211,
   "metadata": {
    "collapsed": true
   },
   "outputs": [
    {
     "name": "stdout",
     "output_type": "stream",
     "text": [
      "saved  -  nike_dump/nike_a_1.png\n",
      "saved  -  nike_dump/nike_a_2.png\n",
      "saved  -  nike_dump/nike_a_3.png\n",
      "saved  -  nike_dump/nike_a_4.png\n",
      "saved  -  nike_dump/nike_a_5.png\n",
      "saved  -  nike_dump/nike_a_6.png\n",
      "saved  -  nike_dump/nike_a_7.png\n",
      "saved  -  nike_dump/nike_a_8.png\n",
      "saved  -  nike_dump/nike_a_9.png\n",
      "saved  -  nike_dump/nike_a_10.png\n",
      "saved  -  nike_dump/nike_a_11.png\n",
      "saved  -  nike_dump/nike_a_12.png\n",
      "saved  -  nike_dump/nike_a_13.png\n",
      "saved  -  nike_dump/nike_a_14.png\n",
      "saved  -  nike_dump/nike_a_15.png\n",
      "saved  -  nike_dump/nike_a_16.png\n",
      "saved  -  nike_dump/nike_a_17.png\n",
      "saved  -  nike_dump/nike_a_18.png\n",
      "saved  -  nike_dump/nike_a_19.png\n",
      "saved  -  nike_dump/nike_a_20.png\n"
     ]
    }
   ],
   "source": [
    "url_chugger(\"https://www.google.com/search?q=nike+shoes&source=lnms&tbm=isch&sa=X&ved=0ahUKEwiZ-9mevKbkAhXf7XMBHTx4DGMQ_AUIEigC&biw=902&bih=972\", \"nike_dump/\", \"nike_\", \"a_\")"
   ]
  },
  {
   "cell_type": "code",
   "execution_count": 212,
   "metadata": {
    "collapsed": true
   },
   "outputs": [
    {
     "name": "stdout",
     "output_type": "stream",
     "text": [
      "saved  -  nike_dump/nike_bb_1.png\n",
      "saved  -  nike_dump/nike_bb_2.png\n",
      "saved  -  nike_dump/nike_bb_3.png\n",
      "saved  -  nike_dump/nike_bb_4.png\n",
      "saved  -  nike_dump/nike_bb_5.png\n",
      "saved  -  nike_dump/nike_bb_6.png\n",
      "saved  -  nike_dump/nike_bb_7.png\n",
      "saved  -  nike_dump/nike_bb_8.png\n",
      "saved  -  nike_dump/nike_bb_9.png\n",
      "saved  -  nike_dump/nike_bb_10.png\n",
      "saved  -  nike_dump/nike_bb_11.png\n",
      "saved  -  nike_dump/nike_bb_12.png\n",
      "saved  -  nike_dump/nike_bb_13.png\n",
      "saved  -  nike_dump/nike_bb_14.png\n",
      "saved  -  nike_dump/nike_bb_15.png\n",
      "saved  -  nike_dump/nike_bb_16.png\n",
      "saved  -  nike_dump/nike_bb_17.png\n",
      "saved  -  nike_dump/nike_bb_18.png\n",
      "saved  -  nike_dump/nike_bb_19.png\n",
      "saved  -  nike_dump/nike_bb_20.png\n"
     ]
    }
   ],
   "source": [
    "url_chugger(\"https://www.google.com/search?q=nike+running+shoes&source=lnms&tbm=isch&sa=X&ved=0ahUKEwik4Pz1yqbkAhWcIbcAHRI7AgoQ_AUIEigC&biw=902&bih=972\",\"nike_dump/\", \"nike_\", \"bb_\" )"
   ]
  },
  {
   "cell_type": "code",
   "execution_count": 213,
   "metadata": {
    "collapsed": true
   },
   "outputs": [
    {
     "name": "stdout",
     "output_type": "stream",
     "text": [
      "saved  -  nike_dump/nike_cc_1.png\n",
      "saved  -  nike_dump/nike_cc_2.png\n",
      "saved  -  nike_dump/nike_cc_3.png\n",
      "saved  -  nike_dump/nike_cc_4.png\n",
      "saved  -  nike_dump/nike_cc_5.png\n",
      "saved  -  nike_dump/nike_cc_6.png\n",
      "saved  -  nike_dump/nike_cc_7.png\n",
      "saved  -  nike_dump/nike_cc_8.png\n",
      "saved  -  nike_dump/nike_cc_9.png\n",
      "saved  -  nike_dump/nike_cc_10.png\n",
      "saved  -  nike_dump/nike_cc_11.png\n",
      "saved  -  nike_dump/nike_cc_12.png\n",
      "saved  -  nike_dump/nike_cc_13.png\n",
      "saved  -  nike_dump/nike_cc_14.png\n",
      "saved  -  nike_dump/nike_cc_15.png\n",
      "saved  -  nike_dump/nike_cc_16.png\n",
      "saved  -  nike_dump/nike_cc_17.png\n",
      "saved  -  nike_dump/nike_cc_18.png\n",
      "saved  -  nike_dump/nike_cc_19.png\n",
      "saved  -  nike_dump/nike_cc_20.png\n"
     ]
    }
   ],
   "source": [
    "url_chugger(\"https://www.google.com/search?biw=902&bih=972&tbm=isch&sa=1&ei=RfxmXd_vKozZz7sPjeS68Ao&q=nike+mens+shoes&oq=nike+mens+shoes&gs_l=img.3..0l10.79041.82988..86963...0.0..0.157.1901.0j13......0....1..gws-wiz-img.......0i67j0i7i30j0i7i10i30.wWr7euaCLwQ&ved=0ahUKEwifpvr2yqbkAhWM7HMBHQ2yDq4Q4dUDCAY&uact=5\", \"nike_dump/\", \"nike_\", \"cc_\")"
   ]
  },
  {
   "cell_type": "code",
   "execution_count": 33,
   "metadata": {
    "collapsed": true
   },
   "outputs": [
    {
     "name": "stdout",
     "output_type": "stream",
     "text": [
      "saved  -  nike_dump/nike_dd_1.png\n",
      "saved  -  nike_dump/nike_dd_2.png\n",
      "saved  -  nike_dump/nike_dd_3.png\n",
      "saved  -  nike_dump/nike_dd_4.png\n",
      "saved  -  nike_dump/nike_dd_5.png\n",
      "saved  -  nike_dump/nike_dd_6.png\n",
      "saved  -  nike_dump/nike_dd_7.png\n",
      "saved  -  nike_dump/nike_dd_8.png\n",
      "saved  -  nike_dump/nike_dd_9.png\n",
      "saved  -  nike_dump/nike_dd_10.png\n",
      "saved  -  nike_dump/nike_dd_11.png\n",
      "saved  -  nike_dump/nike_dd_12.png\n",
      "saved  -  nike_dump/nike_dd_13.png\n",
      "saved  -  nike_dump/nike_dd_14.png\n",
      "saved  -  nike_dump/nike_dd_15.png\n",
      "saved  -  nike_dump/nike_dd_16.png\n",
      "saved  -  nike_dump/nike_dd_17.png\n",
      "saved  -  nike_dump/nike_dd_18.png\n",
      "saved  -  nike_dump/nike_dd_19.png\n",
      "saved  -  nike_dump/nike_dd_20.png\n"
     ]
    }
   ],
   "source": [
    "url_chugger(\"https://www.google.com/search?q=nike+shoes+amazon&source=lnms&tbm=isch&sa=X&ved=0ahUKEwjAu4LYj6fkAhUv7XMBHVCQAbMQ_AUIEigC&biw=569&bih=972\", \"nike_dump/\", \"nike_\", \"dd_\")"
   ]
  },
  {
   "cell_type": "code",
   "execution_count": 34,
   "metadata": {
    "collapsed": true
   },
   "outputs": [
    {
     "name": "stdout",
     "output_type": "stream",
     "text": [
      "saved  -  nike_dump/nike_ee1.png\n",
      "saved  -  nike_dump/nike_ee2.png\n",
      "saved  -  nike_dump/nike_ee3.png\n",
      "saved  -  nike_dump/nike_ee4.png\n",
      "saved  -  nike_dump/nike_ee5.png\n",
      "saved  -  nike_dump/nike_ee6.png\n",
      "saved  -  nike_dump/nike_ee7.png\n",
      "saved  -  nike_dump/nike_ee8.png\n",
      "saved  -  nike_dump/nike_ee9.png\n",
      "saved  -  nike_dump/nike_ee10.png\n",
      "saved  -  nike_dump/nike_ee11.png\n",
      "saved  -  nike_dump/nike_ee12.png\n",
      "saved  -  nike_dump/nike_ee13.png\n",
      "saved  -  nike_dump/nike_ee14.png\n",
      "saved  -  nike_dump/nike_ee15.png\n",
      "saved  -  nike_dump/nike_ee16.png\n",
      "saved  -  nike_dump/nike_ee17.png\n",
      "saved  -  nike_dump/nike_ee18.png\n",
      "saved  -  nike_dump/nike_ee19.png\n",
      "saved  -  nike_dump/nike_ee20.png\n"
     ]
    }
   ],
   "source": [
    "# url_chugger(\"\", \"nike_dump/\", \"nike_\", \"dd_\")\n",
    "\n",
    "url_chugger(\"https://www.google.com/search?biw=569&bih=972&tbm=isch&sa=1&ei=YURnXZb9M8fEz7sPjbi98AE&q=nike+shoes+flipkart&oq=nike+shoes+flipkart&gs_l=img.3..0j0i8i30l8j0i24.53415.57442..62107...0.0..0.157.2052.0j14......0....1..gws-wiz-img.......0i67j0i5i30.jaCnjAdpixg&ved=0ahUKEwjWsbjZj6fkAhVH4nMBHQ1cDx4Q4dUDCAY&uact=5\", \"nike_dump/\", \"nike_\", \"ee\")\n"
   ]
  }
 ],
 "metadata": {
  "kernelspec": {
   "display_name": "Python 3",
   "language": "python",
   "name": "python3"
  },
  "language_info": {
   "codemirror_mode": {
    "name": "ipython",
    "version": 3
   },
   "file_extension": ".py",
   "mimetype": "text/x-python",
   "name": "python",
   "nbconvert_exporter": "python",
   "pygments_lexer": "ipython3",
   "version": "3.7.3"
  }
 },
 "nbformat": 4,
 "nbformat_minor": 2
}
